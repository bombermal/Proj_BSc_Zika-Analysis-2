{
 "cells": [
  {
   "cell_type": "markdown",
   "metadata": {},
   "source": [
    "## Imports"
   ]
  },
  {
   "cell_type": "code",
   "execution_count": 1,
   "metadata": {},
   "outputs": [],
   "source": [
    "import mysql.connector\n",
    "from mysql.connector import Error\n",
    "from configparser import ConfigParser"
   ]
  },
  {
   "cell_type": "code",
   "execution_count": 2,
   "metadata": {},
   "outputs": [],
   "source": [
    "def read_db_config(section='mysql', filename='config.ini'):\n",
    "    \"\"\" Read database configuration file and return a dictionary object\n",
    "    :param filename: name of the configuration file\n",
    "    :param section: section of database configuration\n",
    "    :return: a dictionary of database parameters\n",
    "    \"\"\"\n",
    "    # create parser and read ini configuration file\n",
    "    parser = ConfigParser()\n",
    "    parser.read(filename)\n",
    " \n",
    "    # get section, default to mysql\n",
    "    db = {}\n",
    "    if parser.has_section(section):\n",
    "        items = parser.items(section)\n",
    "        for item in items:\n",
    "            db[item[0]] = item[1]\n",
    "    else:\n",
    "        raise Exception('{0} not found in the {1} file'.format(section, filename))\n",
    " \n",
    "    return db"
   ]
  },
  {
   "cell_type": "code",
   "execution_count": 4,
   "metadata": {},
   "outputs": [
    {
     "name": "stdout",
     "output_type": "stream",
     "text": [
      "Connecting to MySQL database...\n",
      "connection established.\n",
      "Connection closed.\n"
     ]
    }
   ],
   "source": [
    "def connect():\n",
    "    \"\"\" Connect to MySQL database \"\"\"\n",
    " \n",
    "    #db_config = read_db_config()\n",
    " \n",
    "    try:\n",
    "        print('Connecting to MySQL database...')\n",
    "        #conn = MySQLConnection(**db_config)\n",
    "        conn = mysql.connector.connect(host=\"localhost\",\n",
    "                                      database=\"zyka\",\n",
    "                                      user=\"root\",\n",
    "                                      password=\"\")\n",
    "        if conn.is_connected():\n",
    "            print('connection established.')\n",
    "        else:\n",
    "            print('connection failed.')\n",
    " \n",
    "    except Error as error:\n",
    "        print(error)\n",
    " \n",
    "    finally:\n",
    "        conn.close()\n",
    "        print('Connection closed.')\n",
    " \n",
    " \n",
    "if __name__ == '__main__':\n",
    "    connect()\n",
    "\n"
   ]
  },
  {
   "cell_type": "code",
   "execution_count": 21,
   "metadata": {},
   "outputs": [
    {
     "name": "stdout",
     "output_type": "stream",
     "text": [
      "('123', 'testeBoy', 'teste@test.com', '202cb962ac59075b964b07152d234b70')\n",
      "('14111410172', 'Phillip Aranjo', 'philliparanjo81@outlook.com', '202cb962ac59075b964b07152d234b70')\n",
      "('37451660643', 'Betty Suarez', 'bettysuarez19@ig.com.br', '202cb962ac59075b964b07152d234b70')\n",
      "('48868637734', 'Ricky Knight', 'rickyknight@outlook.com', '202cb962ac59075b964b07152d234b70')\n",
      "('62187073358', 'Stacey Webb', 'staceywebb49@outlook.com', '202cb962ac59075b964b07152d234b70')\n",
      "('66700060532', 'Anna Engelhardt', 'annaengelhardt@outlook.com', '202cb962ac59075b964b07152d234b70')\n",
      "('75435812327', 'Ryan Carson', 'ryancarson64@bol.com.br', '202cb962ac59075b964b07152d234b70')\n",
      "('76538014211', 'Sharon Sandifer', 'sharonsandifer11@hotmail.com', '202cb962ac59075b964b07152d234b70')\n",
      "('77552234885', 'Gayle Isbell', 'gayleisbell@gmail.com', '202cb962ac59075b964b07152d234b70')\n",
      "('85634088663', 'Linda Nelson', 'lindanelson13@bol.com.br', '202cb962ac59075b964b07152d234b70')\n",
      "('88675585821', 'Michael Wilkens', 'michaelwilkens22@hotmail.com', '202cb962ac59075b964b07152d234b70')\n"
     ]
    }
   ],
   "source": [
    "def query_with_fetchone():\n",
    "    try:\n",
    "        conn = mysql.connector.connect(host=\"localhost\",\n",
    "                                      database=\"ppg\",\n",
    "                                      user=\"root\",\n",
    "                                      password=\"\")\n",
    "        cursor = conn.cursor()\n",
    "        cursor.execute(\"SELECT * FROM funcionario\")\n",
    " \n",
    "        row = cursor.fetchone()\n",
    " \n",
    "        while row is not None:\n",
    "            print(row)\n",
    "            row = cursor.fetchone()\n",
    " \n",
    "    except Error as e:\n",
    "        print(e)\n",
    " \n",
    "    finally:\n",
    "        cursor.close()\n",
    "        conn.close()\n",
    " \n",
    " \n",
    "if __name__ == '__main__':\n",
    "    query_with_fetchone()"
   ]
  },
  {
   "cell_type": "code",
   "execution_count": 36,
   "metadata": {},
   "outputs": [
    {
     "name": "stdout",
     "output_type": "stream",
     "text": [
      "Total Row(s): 11\n",
      "('123', 'testeBoy', 'teste@test.com', '202cb962ac59075b964b07152d234b70')\n",
      "('14111410172', 'Phillip Aranjo', 'philliparanjo81@outlook.com', '202cb962ac59075b964b07152d234b70')\n",
      "('37451660643', 'Betty Suarez', 'bettysuarez19@ig.com.br', '202cb962ac59075b964b07152d234b70')\n",
      "('48868637734', 'Ricky Knight', 'rickyknight@outlook.com', '202cb962ac59075b964b07152d234b70')\n",
      "('62187073358', 'Stacey Webb', 'staceywebb49@outlook.com', '202cb962ac59075b964b07152d234b70')\n",
      "('66700060532', 'Anna Engelhardt', 'annaengelhardt@outlook.com', '202cb962ac59075b964b07152d234b70')\n",
      "('75435812327', 'Ryan Carson', 'ryancarson64@bol.com.br', '202cb962ac59075b964b07152d234b70')\n",
      "('76538014211', 'Sharon Sandifer', 'sharonsandifer11@hotmail.com', '202cb962ac59075b964b07152d234b70')\n",
      "('77552234885', 'Gayle Isbell', 'gayleisbell@gmail.com', '202cb962ac59075b964b07152d234b70')\n",
      "('85634088663', 'Linda Nelson', 'lindanelson13@bol.com.br', '202cb962ac59075b964b07152d234b70')\n",
      "('88675585821', 'Michael Wilkens', 'michaelwilkens22@hotmail.com', '202cb962ac59075b964b07152d234b70')\n"
     ]
    }
   ],
   "source": [
    "def query_with_fetchall():\n",
    "    try:\n",
    "        conn = mysql.connector.connect(host=\"localhost\",\n",
    "                                      database=\"ppg\",\n",
    "                                      user=\"root\",\n",
    "                                      password=\"\")\n",
    "        cursor = conn.cursor()\n",
    "        cursor.execute(\"SELECT * FROM funcionario\")\n",
    "        rows = cursor.fetchall()\n",
    " \n",
    "        print('Total Row(s):', cursor.rowcount)\n",
    "        for row in rows:\n",
    "            print(row)\n",
    " \n",
    "    except Error as e:\n",
    "        print(e)\n",
    " \n",
    "    finally:\n",
    "        cursor.close()\n",
    "        conn.close()\n",
    " \n",
    " \n",
    "if __name__ == '__main__':\n",
    "    query_with_fetchall()"
   ]
  },
  {
   "cell_type": "code",
   "execution_count": 37,
   "metadata": {},
   "outputs": [],
   "source": [
    "def iter_row(cursor, size=10):\n",
    "    while True:\n",
    "        rows = cursor.fetchmany(size)\n",
    "        if not rows:\n",
    "            break\n",
    "        for row in rows:\n",
    "            yield row"
   ]
  },
  {
   "cell_type": "code",
   "execution_count": 50,
   "metadata": {},
   "outputs": [
    {
     "name": "stdout",
     "output_type": "stream",
     "text": [
      "('123', 'testeBoy', 'teste@test.com', '202cb962ac59075b964b07152d234b70')\n",
      "('14111410172', 'Phillip Aranjo', 'philliparanjo81@outlook.com', '202cb962ac59075b964b07152d234b70')\n",
      "('37451660643', 'Betty Suarez', 'bettysuarez19@ig.com.br', '202cb962ac59075b964b07152d234b70')\n",
      "('48868637734', 'Ricky Knight', 'rickyknight@outlook.com', '202cb962ac59075b964b07152d234b70')\n",
      "('62187073358', 'Stacey Webb', 'staceywebb49@outlook.com', '202cb962ac59075b964b07152d234b70')\n",
      "('66700060532', 'Anna Engelhardt', 'annaengelhardt@outlook.com', '202cb962ac59075b964b07152d234b70')\n",
      "('75435812327', 'Ryan Carson', 'ryancarson64@bol.com.br', '202cb962ac59075b964b07152d234b70')\n",
      "('76538014211', 'Sharon Sandifer', 'sharonsandifer11@hotmail.com', '202cb962ac59075b964b07152d234b70')\n",
      "('77552234885', 'Gayle Isbell', 'gayleisbell@gmail.com', '202cb962ac59075b964b07152d234b70')\n",
      "('85634088663', 'Linda Nelson', 'lindanelson13@bol.com.br', '202cb962ac59075b964b07152d234b70')\n",
      "('88675585821', 'Michael Wilkens', 'michaelwilkens22@hotmail.com', '202cb962ac59075b964b07152d234b70')\n"
     ]
    }
   ],
   "source": [
    "dbConfig = read_db_config(\"zyka\")\n",
    "def query_with_fetchmany():\n",
    "    try:\n",
    "        conn = mysql.connector.connect(**dbConfig)\n",
    "        cursor = conn.cursor()\n",
    " \n",
    "        cursor.execute(\"SELECT * FROM funcionario\")\n",
    " \n",
    "        for row in iter_row(cursor, 10):\n",
    "            print(row)\n",
    " \n",
    "    except Error as e:\n",
    "        print(e)\n",
    " \n",
    "    finally:\n",
    "        cursor.close()\n",
    "        conn.close()\n",
    "\n",
    "if __name__ == '__main__':\n",
    "    query_with_fetchmany()"
   ]
  },
  {
   "cell_type": "code",
   "execution_count": null,
   "metadata": {},
   "outputs": [],
   "source": []
  }
 ],
 "metadata": {
  "kernelspec": {
   "display_name": "Python 3",
   "language": "python",
   "name": "python3"
  },
  "language_info": {
   "codemirror_mode": {
    "name": "ipython",
    "version": 3
   },
   "file_extension": ".py",
   "mimetype": "text/x-python",
   "name": "python",
   "nbconvert_exporter": "python",
   "pygments_lexer": "ipython3",
   "version": "3.6.5"
  }
 },
 "nbformat": 4,
 "nbformat_minor": 2
}
