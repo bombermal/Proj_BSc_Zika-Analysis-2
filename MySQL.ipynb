{
 "cells": [
  {
   "cell_type": "code",
   "execution_count": 1,
   "metadata": {},
   "outputs": [],
   "source": [
    "import mysql.connector\n",
    "from sqlalchemy import create_engine\n",
    "import pandas as pd\n",
    "\n",
    "import WorkFunctions as wFunc"
   ]
  },
  {
   "cell_type": "code",
   "execution_count": 2,
   "metadata": {},
   "outputs": [],
   "source": [
    "link = \"mysql+pymysql://root:@127.0.0.1:3306/zyka\"\n",
    "zyka = create_engine(link)\n",
    "nodes = create_engine(link+'_pdbs_nodes')\n",
    "edges = create_engine(link+'_pdbs_edges')"
   ]
  },
  {
   "cell_type": "markdown",
   "metadata": {},
   "source": [
    "# Creating database"
   ]
  },
  {
   "cell_type": "code",
   "execution_count": 31,
   "metadata": {},
   "outputs": [
    {
     "name": "stdout",
     "output_type": "stream",
     "text": [
      "Wall time: 5.13 s\n"
     ]
    }
   ],
   "source": [
    "%%time\n",
    "def saveAll():\n",
    "    protein = \"read/Protein - C_NS5\"\n",
    "    fastaProSequences = wFunc.fileRead(protein, \".fa\")\n",
    "    columns=[\"ID\", \"Host\", \"Region\", \"Date\", \"FullSeq\"]\n",
    "    #Make DataFrames\n",
    "    fastaProDF = wFunc.makeDF(columns, fastaProSequences)\n",
    "    fastaProDF.to_sql(\"zyka_samples\", zyka, if_exists='replace')\n",
    "    nsFiles = wFunc.readPDBs()\n",
    "    for key, value in nsFiles.items():\n",
    "        value.to_sql(str.lower(key), nodes, if_exists='replace')\n",
    "    nsFiles = wFunc.readPDBs(True)\n",
    "    for key, value in nsFiles.items():\n",
    "        value.to_sql(str.lower(key), edges, if_exists='replace')\n",
    "\n",
    "#saveAll()"
   ]
  },
  {
   "cell_type": "markdown",
   "metadata": {},
   "source": [
    "# Reading DB"
   ]
  },
  {
   "cell_type": "code",
   "execution_count": 36,
   "metadata": {},
   "outputs": [],
   "source": [
    "dataList = ['5GS6', '5IY3', '5K6K', '5JMT', \"5TMH\"]\n",
    "nodesFiles = {}\n",
    "edgesFiles = {}\n",
    "samples = pd.read_sql_query('SELECT * FROM zyka_samples', index_col=\"index\", con=zyka)\n",
    "for ii in dataList:\n",
    "    temp = str.lower(ii)\n",
    "    nodesFiles[ii] = pd.read_sql_query('SELECT * FROM '+temp, index_col=\"index\", con=nodes)\n",
    "    edgesFiles[ii] = pd.read_sql_query('SELECT * FROM '+temp, index_col=\"index\", con=edges)"
   ]
  },
  {
   "cell_type": "code",
   "execution_count": 33,
   "metadata": {},
   "outputs": [],
   "source": [
    "import WorkFlow as wFlow\n",
    "import multiprocessing as mp\n",
    "from multiprocessing.dummy import Pool as ThreadPool\n",
    "from tqdm import tqdm\n",
    "\n",
    "def readOrCreate(nsFiles, samples, delList, saveList, makeTheMagic=False):\n",
    "    path = \"read/ResultCover/allSequencesCover.csv\"\n",
    "    path2 = \"read/ResultCover/allSequencesAmino.csv\"\n",
    "\n",
    "    if makeTheMagic:\n",
    "        print(\"I'm going to an adventure!\")\n",
    "        obj = wFlow.work()\n",
    "        \"\"\"\n",
    "        1 - PDBs\n",
    "        2 - Sequences\n",
    "        3 - showAlign=False\n",
    "        4 - saveAlign=False\n",
    "        \"\"\"\n",
    "        cover, aminoDegrees = obj.prepareWork(nsFiles, samples, delList)\n",
    "        aminoDegrees.to_sql(\"pre_processed_results\", zyka, index=False, if_exists='replace')\n",
    "        cover.to_sql(\"cover\", zyka, index=False, if_exists='replace')\n",
    "\n",
    "        cleanedDF, strangeDF = cleanData(aminoDegrees, saveList)\n",
    "\n",
    "        countAndSavePoli(saveList, cleanedDF)\n",
    "        countAndSavePoli(saveList, cleanedDF, False)\n",
    "\n",
    "        obj.makeFasta(cover, dataList)\n",
    "\n",
    "    print(\"Ok, just reading!\")\n",
    "    cover = pd.read_sql_query('SELECT * FROM cover', con=zyka)\n",
    "    aminoDegrees = pd.read_sql_query('SELECT * FROM pre_processed_results', con=zyka)\n",
    "    cleanedDF, strangeDF = cleanData(aminoDegrees, saveList)\n",
    "    poliListAmino = readSavedPoli(saveList)\n",
    "    poliListDegree = readSavedPoli(saveList, False)\n",
    "    \n",
    "    return cover, aminoDegrees, cleanedDF, strangeDF, poliListAmino, poliListDegree\n",
    "\n",
    "def fillPosition(df):\n",
    "    temp = pd.DataFrame()\n",
    "    for jj, kk in enumerate(df):\n",
    "        temp.loc[0, str(jj)+\"POS\"] = kk\n",
    "        \n",
    "    return temp\n",
    "\n",
    "\n",
    "    \n",
    "\n",
    "def splitCell(seq, amino):\n",
    "    \"\"\"\n",
    "        returna a Aminoacid or a degree value\n",
    "    \"\"\"\n",
    "    seq = seq.split(\"|\")\n",
    "    if amino:\n",
    "        seq = [x.split(\",\")[0] for x in seq]\n",
    "    else:\n",
    "        seq = [x.split(\",\")[1] for x in seq]\n",
    "    return seq\n",
    "\n",
    "def countAndSavePoli(dataList, df, amino=True):\n",
    "    for ii in dataList:\n",
    "        temp = makeCountDF(df, ii, amino)\n",
    "        if amino:\n",
    "            path = \"read/PolimorfDF/dfAmino\"+ii+\".csv\"\n",
    "        else:\n",
    "            path = \"read/PolimorfDF/dfDegree\"+ii+\".csv\"\n",
    "        temp.to_csv(path, sep=\"\\t\", index=True)\n",
    "        print(\"PDB: \"+ii+\" saved!\")\n",
    "        \n",
    "def cleanData(df, dataList):\n",
    "    dataCut = {'5GS6' : 1452, '5IY3': 767, '5K6K': 1454, '5JMT': 1835, '5TMH': 3655}\n",
    "    cleanedDF = pd.DataFrame()\n",
    "    strangeDF = pd.DataFrame()\n",
    "    for ii in dataList:\n",
    "        temp = df[(df.Protein == ii) & (df.Len <= dataCut[ii])]\n",
    "        temp2 = df[(df.Protein == ii) & (df.Len > dataCut[ii])]\n",
    "        cleanedDF = pd.concat([cleanedDF, temp])\n",
    "        strangeDF = pd.concat([strangeDF, temp2])\n",
    "        \n",
    "    return cleanedDF, strangeDF\n",
    "def readSavedPoli(dataList, amino=True):\n",
    "    temp = []\n",
    "    for ii in dataList:\n",
    "        print(\"Reading PDB: \"+ii)\n",
    "        if amino:\n",
    "            path = \"read/PolimorfDF/dfAmino\"+ii+\".csv\"\n",
    "        else:\n",
    "            path = \"read/PolimorfDF/dfDegree\"+ii+\".csv\"\n",
    "        temp.append(pd.read_csv(path, sep=\"\\t\", index_col=0))\n",
    "    return temp"
   ]
  },
  {
   "cell_type": "code",
   "execution_count": 34,
   "metadata": {},
   "outputs": [
    {
     "name": "stdout",
     "output_type": "stream",
     "text": [
      "I'm going to an adventure!\n"
     ]
    },
    {
     "ename": "KeyError",
     "evalue": "'the label [0] is not in the [index]'",
     "output_type": "error",
     "traceback": [
      "\u001b[1;31m---------------------------------------------------------------------------\u001b[0m",
      "\u001b[1;31mKeyError\u001b[0m                                  Traceback (most recent call last)",
      "\u001b[1;32m~\\Anaconda3\\lib\\site-packages\\pandas\\core\\indexing.py\u001b[0m in \u001b[0;36m_validate_key\u001b[1;34m(self, key, axis)\u001b[0m\n\u001b[0;32m   1789\u001b[0m                 \u001b[1;32mif\u001b[0m \u001b[1;32mnot\u001b[0m \u001b[0max\u001b[0m\u001b[1;33m.\u001b[0m\u001b[0mcontains\u001b[0m\u001b[1;33m(\u001b[0m\u001b[0mkey\u001b[0m\u001b[1;33m)\u001b[0m\u001b[1;33m:\u001b[0m\u001b[1;33m\u001b[0m\u001b[0m\n\u001b[1;32m-> 1790\u001b[1;33m                     \u001b[0merror\u001b[0m\u001b[1;33m(\u001b[0m\u001b[1;33m)\u001b[0m\u001b[1;33m\u001b[0m\u001b[0m\n\u001b[0m\u001b[0;32m   1791\u001b[0m             \u001b[1;32mexcept\u001b[0m \u001b[0mTypeError\u001b[0m \u001b[1;32mas\u001b[0m \u001b[0me\u001b[0m\u001b[1;33m:\u001b[0m\u001b[1;33m\u001b[0m\u001b[0m\n",
      "\u001b[1;32m~\\Anaconda3\\lib\\site-packages\\pandas\\core\\indexing.py\u001b[0m in \u001b[0;36merror\u001b[1;34m()\u001b[0m\n\u001b[0;32m   1784\u001b[0m                                .format(key=key,\n\u001b[1;32m-> 1785\u001b[1;33m                                        axis=self.obj._get_axis_name(axis)))\n\u001b[0m\u001b[0;32m   1786\u001b[0m \u001b[1;33m\u001b[0m\u001b[0m\n",
      "\u001b[1;31mKeyError\u001b[0m: 'the label [0] is not in the [index]'",
      "\nDuring handling of the above exception, another exception occurred:\n",
      "\u001b[1;31mKeyError\u001b[0m                                  Traceback (most recent call last)",
      "\u001b[1;32m<ipython-input-34-f6bf176d1764>\u001b[0m in \u001b[0;36m<module>\u001b[1;34m()\u001b[0m\n\u001b[0;32m      5\u001b[0m     \u001b[0mnodesFiles\u001b[0m\u001b[1;33m[\u001b[0m\u001b[0mii\u001b[0m\u001b[1;33m]\u001b[0m \u001b[1;33m=\u001b[0m \u001b[0mpd\u001b[0m\u001b[1;33m.\u001b[0m\u001b[0mread_sql_query\u001b[0m\u001b[1;33m(\u001b[0m\u001b[1;34m'SELECT * FROM '\u001b[0m\u001b[1;33m+\u001b[0m\u001b[0mii\u001b[0m\u001b[1;33m,\u001b[0m \u001b[0mindex_col\u001b[0m\u001b[1;33m=\u001b[0m\u001b[1;34m\"index\"\u001b[0m\u001b[1;33m,\u001b[0m \u001b[0mcon\u001b[0m\u001b[1;33m=\u001b[0m\u001b[0mnodes\u001b[0m\u001b[1;33m)\u001b[0m\u001b[1;33m\u001b[0m\u001b[0m\n\u001b[0;32m      6\u001b[0m \u001b[1;33m\u001b[0m\u001b[0m\n\u001b[1;32m----> 7\u001b[1;33m \u001b[0mcover\u001b[0m\u001b[1;33m,\u001b[0m \u001b[0maminoDegrees\u001b[0m\u001b[1;33m,\u001b[0m \u001b[0mcleanedDF\u001b[0m\u001b[1;33m,\u001b[0m \u001b[0mstrangeDF\u001b[0m\u001b[1;33m,\u001b[0m \u001b[0mpoliListAmino\u001b[0m\u001b[1;33m,\u001b[0m \u001b[0mpoliListDegree\u001b[0m \u001b[1;33m=\u001b[0m \u001b[0mreadOrCreate\u001b[0m\u001b[1;33m(\u001b[0m\u001b[0mnodesFiles\u001b[0m\u001b[1;33m,\u001b[0m \u001b[0msamples\u001b[0m\u001b[1;33m[\u001b[0m\u001b[1;33m:\u001b[0m\u001b[1;36m2\u001b[0m\u001b[1;33m]\u001b[0m\u001b[1;33m,\u001b[0m \u001b[0mdelList\u001b[0m\u001b[1;33m,\u001b[0m \u001b[0msaveList\u001b[0m\u001b[1;33m,\u001b[0m \u001b[1;32mTrue\u001b[0m\u001b[1;33m)\u001b[0m\u001b[1;33m\u001b[0m\u001b[0m\n\u001b[0m",
      "\u001b[1;32m<ipython-input-33-34adfd32e168>\u001b[0m in \u001b[0;36mreadOrCreate\u001b[1;34m(nsFiles, samples, delList, saveList, makeTheMagic)\u001b[0m\n\u001b[0;32m     17\u001b[0m         \u001b[1;36m4\u001b[0m \u001b[1;33m-\u001b[0m \u001b[0msaveAlign\u001b[0m\u001b[1;33m=\u001b[0m\u001b[1;32mFalse\u001b[0m\u001b[1;33m\u001b[0m\u001b[0m\n\u001b[0;32m     18\u001b[0m         \"\"\"\n\u001b[1;32m---> 19\u001b[1;33m         \u001b[0mcover\u001b[0m\u001b[1;33m,\u001b[0m \u001b[0maminoDegrees\u001b[0m \u001b[1;33m=\u001b[0m \u001b[0mobj\u001b[0m\u001b[1;33m.\u001b[0m\u001b[0mprepareWork\u001b[0m\u001b[1;33m(\u001b[0m\u001b[0mnsFiles\u001b[0m\u001b[1;33m,\u001b[0m \u001b[0msamples\u001b[0m\u001b[1;33m,\u001b[0m \u001b[0mdelList\u001b[0m\u001b[1;33m)\u001b[0m\u001b[1;33m\u001b[0m\u001b[0m\n\u001b[0m\u001b[0;32m     20\u001b[0m         \u001b[0maminoDegrees\u001b[0m\u001b[1;33m.\u001b[0m\u001b[0mto_sql\u001b[0m\u001b[1;33m(\u001b[0m\u001b[1;34m\"pre_processed_results\"\u001b[0m\u001b[1;33m,\u001b[0m \u001b[0mzyka\u001b[0m\u001b[1;33m,\u001b[0m \u001b[0mindex\u001b[0m\u001b[1;33m=\u001b[0m\u001b[1;32mFalse\u001b[0m\u001b[1;33m,\u001b[0m \u001b[0mif_exists\u001b[0m\u001b[1;33m=\u001b[0m\u001b[1;34m'replace'\u001b[0m\u001b[1;33m)\u001b[0m\u001b[1;33m\u001b[0m\u001b[0m\n\u001b[0;32m     21\u001b[0m         \u001b[0mcover\u001b[0m\u001b[1;33m.\u001b[0m\u001b[0mto_sql\u001b[0m\u001b[1;33m(\u001b[0m\u001b[1;34m\"cover\"\u001b[0m\u001b[1;33m,\u001b[0m \u001b[0mzyka\u001b[0m\u001b[1;33m,\u001b[0m \u001b[0mindex\u001b[0m\u001b[1;33m=\u001b[0m\u001b[1;32mFalse\u001b[0m\u001b[1;33m,\u001b[0m \u001b[0mif_exists\u001b[0m\u001b[1;33m=\u001b[0m\u001b[1;34m'replace'\u001b[0m\u001b[1;33m)\u001b[0m\u001b[1;33m\u001b[0m\u001b[0m\n",
      "\u001b[1;32m~\\OneDrive\\Aulas\\Monitoria\\Plano de trabalho 220917\\Zika-Analysis-2\\WorkFlow.py\u001b[0m in \u001b[0;36mprepareWork\u001b[1;34m(self, pdbs, sequence, single, showAlign, saveAlign)\u001b[0m\n\u001b[0;32m     51\u001b[0m         \u001b[0msequence\u001b[0m \u001b[1;33m=\u001b[0m \u001b[0msequence\u001b[0m\u001b[1;33m[\u001b[0m\u001b[1;33m[\u001b[0m\u001b[1;34m\"ID\"\u001b[0m\u001b[1;33m,\u001b[0m \u001b[1;34m\"FullSeq\"\u001b[0m\u001b[1;33m]\u001b[0m\u001b[1;33m]\u001b[0m\u001b[1;33m.\u001b[0m\u001b[0mcopy\u001b[0m\u001b[1;33m(\u001b[0m\u001b[1;33m)\u001b[0m\u001b[1;33m\u001b[0m\u001b[0m\n\u001b[0;32m     52\u001b[0m         \u001b[1;32mfor\u001b[0m \u001b[0mii\u001b[0m \u001b[1;32min\u001b[0m \u001b[0mrange\u001b[0m\u001b[1;33m(\u001b[0m\u001b[0mlen\u001b[0m\u001b[1;33m(\u001b[0m\u001b[0msequence\u001b[0m\u001b[1;33m)\u001b[0m\u001b[1;33m)\u001b[0m\u001b[1;33m:\u001b[0m\u001b[1;33m\u001b[0m\u001b[0m\n\u001b[1;32m---> 53\u001b[1;33m             \u001b[0mtempSeq\u001b[0m\u001b[1;33m[\u001b[0m\u001b[0msequence\u001b[0m\u001b[1;33m.\u001b[0m\u001b[0mloc\u001b[0m\u001b[1;33m[\u001b[0m\u001b[0mii\u001b[0m\u001b[1;33m,\u001b[0m \u001b[1;34m\"ID\"\u001b[0m\u001b[1;33m]\u001b[0m\u001b[1;33m]\u001b[0m \u001b[1;33m=\u001b[0m \u001b[0mwFunc\u001b[0m\u001b[1;33m.\u001b[0m\u001b[0mmakeNodes\u001b[0m\u001b[1;33m(\u001b[0m\u001b[0msequence\u001b[0m\u001b[1;33m.\u001b[0m\u001b[0mloc\u001b[0m\u001b[1;33m[\u001b[0m\u001b[0mii\u001b[0m\u001b[1;33m,\u001b[0m \u001b[1;34m\"FullSeq\"\u001b[0m\u001b[1;33m]\u001b[0m\u001b[1;33m,\u001b[0m \u001b[1;32mFalse\u001b[0m\u001b[1;33m)\u001b[0m\u001b[1;33m\u001b[0m\u001b[0m\n\u001b[0m\u001b[0;32m     54\u001b[0m \u001b[1;33m\u001b[0m\u001b[0m\n\u001b[0;32m     55\u001b[0m         \u001b[0mself\u001b[0m\u001b[1;33m.\u001b[0m\u001b[0mshowAlign\u001b[0m \u001b[1;33m=\u001b[0m \u001b[0mshowAlign\u001b[0m\u001b[1;33m\u001b[0m\u001b[0m\n",
      "\u001b[1;32m~\\Anaconda3\\lib\\site-packages\\pandas\\core\\indexing.py\u001b[0m in \u001b[0;36m__getitem__\u001b[1;34m(self, key)\u001b[0m\n\u001b[0;32m   1470\u001b[0m             \u001b[1;32mexcept\u001b[0m \u001b[1;33m(\u001b[0m\u001b[0mKeyError\u001b[0m\u001b[1;33m,\u001b[0m \u001b[0mIndexError\u001b[0m\u001b[1;33m)\u001b[0m\u001b[1;33m:\u001b[0m\u001b[1;33m\u001b[0m\u001b[0m\n\u001b[0;32m   1471\u001b[0m                 \u001b[1;32mpass\u001b[0m\u001b[1;33m\u001b[0m\u001b[0m\n\u001b[1;32m-> 1472\u001b[1;33m             \u001b[1;32mreturn\u001b[0m \u001b[0mself\u001b[0m\u001b[1;33m.\u001b[0m\u001b[0m_getitem_tuple\u001b[0m\u001b[1;33m(\u001b[0m\u001b[0mkey\u001b[0m\u001b[1;33m)\u001b[0m\u001b[1;33m\u001b[0m\u001b[0m\n\u001b[0m\u001b[0;32m   1473\u001b[0m         \u001b[1;32melse\u001b[0m\u001b[1;33m:\u001b[0m\u001b[1;33m\u001b[0m\u001b[0m\n\u001b[0;32m   1474\u001b[0m             \u001b[1;31m# we by definition only have the 0th axis\u001b[0m\u001b[1;33m\u001b[0m\u001b[1;33m\u001b[0m\u001b[0m\n",
      "\u001b[1;32m~\\Anaconda3\\lib\\site-packages\\pandas\\core\\indexing.py\u001b[0m in \u001b[0;36m_getitem_tuple\u001b[1;34m(self, tup)\u001b[0m\n\u001b[0;32m    868\u001b[0m     \u001b[1;32mdef\u001b[0m \u001b[0m_getitem_tuple\u001b[0m\u001b[1;33m(\u001b[0m\u001b[0mself\u001b[0m\u001b[1;33m,\u001b[0m \u001b[0mtup\u001b[0m\u001b[1;33m)\u001b[0m\u001b[1;33m:\u001b[0m\u001b[1;33m\u001b[0m\u001b[0m\n\u001b[0;32m    869\u001b[0m         \u001b[1;32mtry\u001b[0m\u001b[1;33m:\u001b[0m\u001b[1;33m\u001b[0m\u001b[0m\n\u001b[1;32m--> 870\u001b[1;33m             \u001b[1;32mreturn\u001b[0m \u001b[0mself\u001b[0m\u001b[1;33m.\u001b[0m\u001b[0m_getitem_lowerdim\u001b[0m\u001b[1;33m(\u001b[0m\u001b[0mtup\u001b[0m\u001b[1;33m)\u001b[0m\u001b[1;33m\u001b[0m\u001b[0m\n\u001b[0m\u001b[0;32m    871\u001b[0m         \u001b[1;32mexcept\u001b[0m \u001b[0mIndexingError\u001b[0m\u001b[1;33m:\u001b[0m\u001b[1;33m\u001b[0m\u001b[0m\n\u001b[0;32m    872\u001b[0m             \u001b[1;32mpass\u001b[0m\u001b[1;33m\u001b[0m\u001b[0m\n",
      "\u001b[1;32m~\\Anaconda3\\lib\\site-packages\\pandas\\core\\indexing.py\u001b[0m in \u001b[0;36m_getitem_lowerdim\u001b[1;34m(self, tup)\u001b[0m\n\u001b[0;32m    996\u001b[0m         \u001b[1;32mfor\u001b[0m \u001b[0mi\u001b[0m\u001b[1;33m,\u001b[0m \u001b[0mkey\u001b[0m \u001b[1;32min\u001b[0m \u001b[0menumerate\u001b[0m\u001b[1;33m(\u001b[0m\u001b[0mtup\u001b[0m\u001b[1;33m)\u001b[0m\u001b[1;33m:\u001b[0m\u001b[1;33m\u001b[0m\u001b[0m\n\u001b[0;32m    997\u001b[0m             \u001b[1;32mif\u001b[0m \u001b[0mis_label_like\u001b[0m\u001b[1;33m(\u001b[0m\u001b[0mkey\u001b[0m\u001b[1;33m)\u001b[0m \u001b[1;32mor\u001b[0m \u001b[0misinstance\u001b[0m\u001b[1;33m(\u001b[0m\u001b[0mkey\u001b[0m\u001b[1;33m,\u001b[0m \u001b[0mtuple\u001b[0m\u001b[1;33m)\u001b[0m\u001b[1;33m:\u001b[0m\u001b[1;33m\u001b[0m\u001b[0m\n\u001b[1;32m--> 998\u001b[1;33m                 \u001b[0msection\u001b[0m \u001b[1;33m=\u001b[0m \u001b[0mself\u001b[0m\u001b[1;33m.\u001b[0m\u001b[0m_getitem_axis\u001b[0m\u001b[1;33m(\u001b[0m\u001b[0mkey\u001b[0m\u001b[1;33m,\u001b[0m \u001b[0maxis\u001b[0m\u001b[1;33m=\u001b[0m\u001b[0mi\u001b[0m\u001b[1;33m)\u001b[0m\u001b[1;33m\u001b[0m\u001b[0m\n\u001b[0m\u001b[0;32m    999\u001b[0m \u001b[1;33m\u001b[0m\u001b[0m\n\u001b[0;32m   1000\u001b[0m                 \u001b[1;31m# we have yielded a scalar ?\u001b[0m\u001b[1;33m\u001b[0m\u001b[1;33m\u001b[0m\u001b[0m\n",
      "\u001b[1;32m~\\Anaconda3\\lib\\site-packages\\pandas\\core\\indexing.py\u001b[0m in \u001b[0;36m_getitem_axis\u001b[1;34m(self, key, axis)\u001b[0m\n\u001b[0;32m   1909\u001b[0m \u001b[1;33m\u001b[0m\u001b[0m\n\u001b[0;32m   1910\u001b[0m         \u001b[1;31m# fall thru to straight lookup\u001b[0m\u001b[1;33m\u001b[0m\u001b[1;33m\u001b[0m\u001b[0m\n\u001b[1;32m-> 1911\u001b[1;33m         \u001b[0mself\u001b[0m\u001b[1;33m.\u001b[0m\u001b[0m_validate_key\u001b[0m\u001b[1;33m(\u001b[0m\u001b[0mkey\u001b[0m\u001b[1;33m,\u001b[0m \u001b[0maxis\u001b[0m\u001b[1;33m)\u001b[0m\u001b[1;33m\u001b[0m\u001b[0m\n\u001b[0m\u001b[0;32m   1912\u001b[0m         \u001b[1;32mreturn\u001b[0m \u001b[0mself\u001b[0m\u001b[1;33m.\u001b[0m\u001b[0m_get_label\u001b[0m\u001b[1;33m(\u001b[0m\u001b[0mkey\u001b[0m\u001b[1;33m,\u001b[0m \u001b[0maxis\u001b[0m\u001b[1;33m=\u001b[0m\u001b[0maxis\u001b[0m\u001b[1;33m)\u001b[0m\u001b[1;33m\u001b[0m\u001b[0m\n\u001b[0;32m   1913\u001b[0m \u001b[1;33m\u001b[0m\u001b[0m\n",
      "\u001b[1;32m~\\Anaconda3\\lib\\site-packages\\pandas\\core\\indexing.py\u001b[0m in \u001b[0;36m_validate_key\u001b[1;34m(self, key, axis)\u001b[0m\n\u001b[0;32m   1796\u001b[0m                 \u001b[1;32mraise\u001b[0m\u001b[1;33m\u001b[0m\u001b[0m\n\u001b[0;32m   1797\u001b[0m             \u001b[1;32mexcept\u001b[0m\u001b[1;33m:\u001b[0m\u001b[1;33m\u001b[0m\u001b[0m\n\u001b[1;32m-> 1798\u001b[1;33m                 \u001b[0merror\u001b[0m\u001b[1;33m(\u001b[0m\u001b[1;33m)\u001b[0m\u001b[1;33m\u001b[0m\u001b[0m\n\u001b[0m\u001b[0;32m   1799\u001b[0m \u001b[1;33m\u001b[0m\u001b[0m\n\u001b[0;32m   1800\u001b[0m     \u001b[1;32mdef\u001b[0m \u001b[0m_is_scalar_access\u001b[0m\u001b[1;33m(\u001b[0m\u001b[0mself\u001b[0m\u001b[1;33m,\u001b[0m \u001b[0mkey\u001b[0m\u001b[1;33m)\u001b[0m\u001b[1;33m:\u001b[0m\u001b[1;33m\u001b[0m\u001b[0m\n",
      "\u001b[1;32m~\\Anaconda3\\lib\\site-packages\\pandas\\core\\indexing.py\u001b[0m in \u001b[0;36merror\u001b[1;34m()\u001b[0m\n\u001b[0;32m   1783\u001b[0m                 raise KeyError(u\"the label [{key}] is not in the [{axis}]\"\n\u001b[0;32m   1784\u001b[0m                                .format(key=key,\n\u001b[1;32m-> 1785\u001b[1;33m                                        axis=self.obj._get_axis_name(axis)))\n\u001b[0m\u001b[0;32m   1786\u001b[0m \u001b[1;33m\u001b[0m\u001b[0m\n\u001b[0;32m   1787\u001b[0m             \u001b[1;32mtry\u001b[0m\u001b[1;33m:\u001b[0m\u001b[1;33m\u001b[0m\u001b[0m\n",
      "\u001b[1;31mKeyError\u001b[0m: 'the label [0] is not in the [index]'"
     ]
    }
   ],
   "source": [
    "saveList, delList = wFunc.choseOne(-1)\n",
    "saveList = [str.lower(x) for x in saveList]\n",
    "nodesFiles = {}\n",
    "for ii in dataList:\n",
    "    nodesFiles[ii] = pd.read_sql_query('SELECT * FROM '+ii, index_col=\"index\", con=nodes)\n",
    "\n",
    "cover, aminoDegrees, cleanedDF, strangeDF, poliListAmino, poliListDegree = readOrCreate(nodesFiles, samples[:2], delList, saveList, True)"
   ]
  },
  {
   "cell_type": "code",
   "execution_count": 7,
   "metadata": {},
   "outputs": [
    {
     "data": {
      "text/plain": [
       "[Empty DataFrame\n",
       " Columns: [index]\n",
       " Index: [], Empty DataFrame\n",
       " Columns: [index]\n",
       " Index: [], Empty DataFrame\n",
       " Columns: [index]\n",
       " Index: [], Empty DataFrame\n",
       " Columns: [index]\n",
       " Index: [], Empty DataFrame\n",
       " Columns: [index]\n",
       " Index: []]"
      ]
     },
     "execution_count": 7,
     "metadata": {},
     "output_type": "execute_result"
    }
   ],
   "source": [
    "def makeCountDF(df, proteinID, amino=True):\n",
    "    selectDF = df[df.Protein == proteinID].Seq.tolist()\n",
    "    selectDF = [splitCell(x, amino) for x in selectDF]\n",
    "\n",
    "    temp = pd.DataFrame()\n",
    "    poolSize = mp.cpu_count()\n",
    "    pool = ThreadPool(poolSize)\n",
    "    results = []\n",
    "    \n",
    "    for ii in tqdm(pool.imap_unordered(fillPosition, selectDF ), total=len(selectDF)):\n",
    "        temp = pd.concat([temp, ii], axis=0, sort=False)\n",
    "    pool.close()\n",
    "    pool.join()\n",
    "    \n",
    "    temp = temp.reset_index()\n",
    "        \n",
    "    return temp\n",
    "\n",
    "makeCountDF(samples[:2], \"5gs6\", True)"
   ]
  },
  {
   "cell_type": "code",
   "execution_count": 11,
   "metadata": {},
   "outputs": [],
   "source": [
    "import WorkFunctions as wFunc\n",
    "import WorkFlow as wFlow\n",
    "import Graphs as gr\n",
    "import matplotlib.pyplot as plt\n",
    "nsFiles = wFunc.readPDBs()"
   ]
  },
  {
   "cell_type": "code",
   "execution_count": 32,
   "metadata": {},
   "outputs": [
    {
     "data": {
      "image/png": "[encoded data removed]",
      "text/plain": [
       "<Figure size 432x288 with 1 Axes>"
      ]
     },
     "metadata": {},
     "output_type": "display_data"
    },
    {
     "data": {
      "image/png": "[encoded data removed]",
      "text/plain": [
       "<Figure size 432x288 with 1 Axes>"
      ]
     },
     "metadata": {},
     "output_type": "display_data"
    },
    {
     "data": {
      "image/png": "[encoded data removed]",
      "text/plain": [
       "<Figure size 432x288 with 1 Axes>"
      ]
     },
     "metadata": {},
     "output_type": "display_data"
    },
    {
     "data": {
      "image/png": "[encoded data removed]",
      "text/plain": [
       "<Figure size 432x288 with 1 Axes>"
      ]
     },
     "metadata": {},
     "output_type": "display_data"
    },
    {
     "data": {
      "image/png": "[encoded data removed]",
      "text/plain": [
       "<Figure size 432x288 with 1 Axes>"
      ]
     },
     "metadata": {},
     "output_type": "display_data"
    }
   ],
   "source": [
    "temp = []\n",
    "for keys in nsFiles:\n",
    "    nsFiles[keys].Degree.plot(kind=\"hist\", title=keys)\n",
    "    temp.append(nsFiles[keys].Degree.tolist())\n",
    "    plt.savefig(\"imgs/PDBDegree_\"+keys+\".png\", dpi=600)\n",
    "    plt.show()\n"
   ]
  },
  {
   "cell_type": "code",
   "execution_count": 31,
   "metadata": {},
   "outputs": [
    {
     "data": {
      "image/png": "[encoded data removed]",
      "text/plain": [
       "<Figure size 432x288 with 1 Axes>"
      ]
     },
     "metadata": {},
     "output_type": "display_data"
    }
   ],
   "source": [
    "aux = []\n",
    "for ii in temp:\n",
    "    for jj in ii:\n",
    "        aux.append(jj)\n",
    "\n",
    "plt.hist(aux)#, log=True)\n",
    "plt.savefig('all.png')\n",
    "plt.show()"
   ]
  },
  {
   "cell_type": "code",
   "execution_count": null,
   "metadata": {},
   "outputs": [],
   "source": []
  }
 ],
 "metadata": {
  "kernelspec": {
   "display_name": "Python 3",
   "language": "python",
   "name": "python3"
  },
  "language_info": {
   "codemirror_mode": {
    "name": "ipython",
    "version": 3
   },
   "file_extension": ".py",
   "mimetype": "text/x-python",
   "name": "python",
   "nbconvert_exporter": "python",
   "pygments_lexer": "ipython3",
   "version": "3.6.4"
  }
 },
 "nbformat": 4,
 "nbformat_minor": 2
}
