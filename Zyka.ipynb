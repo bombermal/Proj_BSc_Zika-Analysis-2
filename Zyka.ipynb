{
 "cells": [
  {
   "cell_type": "code",
   "execution_count": 1,
   "metadata": {},
   "outputs": [],
   "source": [
    "import pandas as pd\n",
    "import populateDb as pDb"
   ]
  },
  {
   "cell_type": "markdown",
   "metadata": {},
   "source": [
    "# Read files and upload on Db"
   ]
  },
  {
   "cell_type": "code",
   "execution_count": 6,
   "metadata": {},
   "outputs": [
    {
     "name": "stdout",
     "output_type": "stream",
     "text": [
      "Dados inseridos em: pdbs_names_list\n",
      "Dados inseridos em: pdbs_names_list\n",
      "Dados inseridos em: pdbs_names_list\n",
      "Dados inseridos em: pdbs_names_list\n",
      "Dados inseridos em: pdbs_names_list\n",
      "Dados inseridos em: pdbs_nodes\n",
      "Dados inseridos em: pdbs_nodes\n",
      "Dados inseridos em: pdbs_nodes\n",
      "Dados inseridos em: pdbs_nodes\n",
      "Dados inseridos em: pdbs_nodes\n",
      "Dados inseridos em: pdbs_edges\n",
      "Dados inseridos em: pdbs_edges\n",
      "Dados inseridos em: pdbs_edges\n",
      "Dados inseridos em: pdbs_edges\n",
      "Dados inseridos em: pdbs_edges\n",
      "Dados inseridos em: samples\n",
      "Wall time: 2.19 s\n"
     ]
    }
   ],
   "source": [
    "%%time\n",
    "#1st step: Populate Db\n",
    "#pDb.populateAll()"
   ]
  },
  {
   "cell_type": "markdown",
   "metadata": {},
   "source": [
    "## Alinhar"
   ]
  },
  {
   "cell_type": "code",
   "execution_count": 11,
   "metadata": {},
   "outputs": [
    {
     "data": {
      "text/html": [
       "<div>\n",
       "<style scoped>\n",
       "    .dataframe tbody tr th:only-of-type {\n",
       "        vertical-align: middle;\n",
       "    }\n",
       "\n",
       "    .dataframe tbody tr th {\n",
       "        vertical-align: top;\n",
       "    }\n",
       "\n",
       "    .dataframe thead th {\n",
       "        text-align: right;\n",
       "    }\n",
       "</style>\n",
       "<table border=\"1\" class=\"dataframe\">\n",
       "  <thead>\n",
       "    <tr style=\"text-align: right;\">\n",
       "      <th></th>\n",
       "      <th>NodeId</th>\n",
       "      <th>Chain</th>\n",
       "      <th>Position</th>\n",
       "      <th>Residue</th>\n",
       "      <th>Dssp</th>\n",
       "      <th>Degree</th>\n",
       "      <th>Bfactor_CA</th>\n",
       "      <th>x</th>\n",
       "      <th>y</th>\n",
       "      <th>z</th>\n",
       "      <th>pdbFileName</th>\n",
       "      <th>Rapdf</th>\n",
       "      <th>Tap</th>\n",
       "      <th>Accessibility</th>\n",
       "    </tr>\n",
       "  </thead>\n",
       "  <tbody>\n",
       "    <tr>\n",
       "      <th>5</th>\n",
       "      <td>A:1:_:ASP</td>\n",
       "      <td>A</td>\n",
       "      <td>1</td>\n",
       "      <td>ASP</td>\n",
       "      <td>E</td>\n",
       "      <td>4</td>\n",
       "      <td>29.50</td>\n",
       "      <td>-21.501</td>\n",
       "      <td>-56.345</td>\n",
       "      <td>-20.320</td>\n",
       "      <td>5k6k.pdb#1.A</td>\n",
       "      <td>-27.962</td>\n",
       "      <td>0.0</td>\n",
       "      <td>0.000</td>\n",
       "    </tr>\n",
       "    <tr>\n",
       "      <th>320</th>\n",
       "      <td>B:1:_:ASP</td>\n",
       "      <td>B</td>\n",
       "      <td>1</td>\n",
       "      <td>ASP</td>\n",
       "      <td>E</td>\n",
       "      <td>3</td>\n",
       "      <td>36.65</td>\n",
       "      <td>-31.596</td>\n",
       "      <td>-48.029</td>\n",
       "      <td>-10.499</td>\n",
       "      <td>5k6k.pdb#1.B</td>\n",
       "      <td>-45.505</td>\n",
       "      <td>0.0</td>\n",
       "      <td>0.062</td>\n",
       "    </tr>\n",
       "  </tbody>\n",
       "</table>\n",
       "</div>"
      ],
      "text/plain": [
       "        NodeId Chain  Position Residue Dssp  Degree  Bfactor_CA       x  \\\n",
       "5    A:1:_:ASP     A         1     ASP    E       4       29.50 -21.501   \n",
       "320  B:1:_:ASP     B         1     ASP    E       3       36.65 -31.596   \n",
       "\n",
       "          y       z   pdbFileName   Rapdf  Tap  Accessibility  \n",
       "5   -56.345 -20.320  5k6k.pdb#1.A -27.962  0.0          0.000  \n",
       "320 -48.029 -10.499  5k6k.pdb#1.B -45.505  0.0          0.062  "
      ]
     },
     "execution_count": 11,
     "metadata": {},
     "output_type": "execute_result"
    }
   ],
   "source": [
    "# primeiro, criat o objeto com a classe do alinhador\n",
    "#data = pd.read_csv(\"read/NS1/5K6K_nodes.txt\", sep=\"\\t\", low_memory=False)\n",
    "data[data.Position == 1]"
   ]
  },
  {
   "cell_type": "code",
   "execution_count": null,
   "metadata": {},
   "outputs": [],
   "source": [
    "def readOrCreate(nsFiles, fastaProDF, delList, saveList, makeTheMagic=False):\n",
    "    path = \"read/ResultCover/allSequencesCover.csv\"\n",
    "    path2 = \"read/ResultCover/allSequencesAmino.csv\"\n",
    "    if makeTheMagic:\n",
    "        print(\"I'm going to an adventure!\")\n",
    "        obj = wFlow.work()\n",
    "        \"\"\"\n",
    "        1 - PDBs\n",
    "        2 - Sequences\n",
    "        3 - showAlign=False\n",
    "        4 - saveAlign=False\n",
    "        \"\"\"\n",
    "        cover, aminoDegrees = obj.prepareWork(nsFiles, fastaProDF, delList)\n",
    "        aminoDegrees.to_csv(path2, sep=\"\\t\", index=False)\n",
    "        cover.to_csv(path, sep=\"\\t\", index=False)\n",
    "\n",
    "        cleanedDF, strangeDF = cleanData(aminoDegrees, saveList)\n",
    "\n",
    "        savePoli(saveList, cleanedDF)\n",
    "        savePoli(saveList, cleanedDF)\n",
    "\n",
    "        #obj.makeFasta(cover, dataList)\n",
    "\n",
    "    print(\"Ok, just reading!\")\n",
    "    cover = pd.read_csv(path, sep=\"\\t\") \n",
    "    aminoDegrees = pd.read_csv(path2, sep=\"\\t\")\n",
    "    cleanedDF, strangeDF = cleanData(aminoDegrees, saveList)\n",
    "    poliListAmino = readSavedPoli(saveList)\n",
    "    poliListDegree = readSavedPoli(saveList, False)\n",
    "    \n",
    "    return cover, aminoDegrees, cleanedDF, strangeDF, poliListAmino, poliListDegree\n"
   ]
  },
  {
   "cell_type": "code",
   "execution_count": null,
   "metadata": {},
   "outputs": [],
   "source": []
  }
 ],
 "metadata": {
  "kernelspec": {
   "display_name": "Python 3",
   "language": "python",
   "name": "python3"
  },
  "language_info": {
   "codemirror_mode": {
    "name": "ipython",
    "version": 3
   },
   "file_extension": ".py",
   "mimetype": "text/x-python",
   "name": "python",
   "nbconvert_exporter": "python",
   "pygments_lexer": "ipython3",
   "version": "3.6.5"
  }
 },
 "nbformat": 4,
 "nbformat_minor": 2
}
