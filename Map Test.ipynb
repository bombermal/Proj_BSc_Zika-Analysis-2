{
 "cells": [
  {
   "cell_type": "code",
   "execution_count": 1,
   "metadata": {},
   "outputs": [],
   "source": [
    "from multiprocessing.dummy import Pool as ThreadPool\n",
    "import multiprocessing as mp\n",
    "from tqdm import tqdm\n",
    "import math"
   ]
  },
  {
   "cell_type": "code",
   "execution_count": 23,
   "metadata": {},
   "outputs": [],
   "source": [
    "def calc(l):\n",
    "    aux = 1\n",
    "    for _ in range(100):\n",
    "        for _ in range(100):\n",
    "            aux *= l\n",
    "    return aux\n",
    "\n",
    "def calcD(l):\n",
    "    aux = 1\n",
    "    for _ in range(100):\n",
    "        for _ in range(100):\n",
    "            aux *= tempD[l]\n",
    "    return aux"
   ]
  },
  {
   "cell_type": "code",
   "execution_count": 19,
   "metadata": {},
   "outputs": [],
   "source": [
    "tempL = [x for x in range(500)]\n",
    "tempD = {}\n",
    "for ii in tempL:\n",
    "    tempD[str(ii)+\"K\"] = ii"
   ]
  },
  {
   "cell_type": "code",
   "execution_count": 14,
   "metadata": {},
   "outputs": [
    {
     "name": "stderr",
     "output_type": "stream",
     "text": [
      "100%|██████████| 500/500 [00:08<00:00, 59.97it/s]\n"
     ]
    },
    {
     "name": "stdout",
     "output_type": "stream",
     "text": [
      "Wall time: 8.49 s\n"
     ]
    }
   ],
   "source": [
    "%%time\n",
    "poolSize = mp.cpu_count()\n",
    "pool = ThreadPool(poolSize)\n",
    "results = []\n",
    "\n",
    "for ii in tqdm(pool.imap_unordered(calc, tempL), total=len(tempL)):\n",
    "    results.append(ii)\n",
    "pool.close()\n",
    "pool.join()"
   ]
  },
  {
   "cell_type": "code",
   "execution_count": 22,
   "metadata": {},
   "outputs": [
    {
     "name": "stderr",
     "output_type": "stream",
     "text": [
      "\n",
      "  0%|          | 0/500 [00:00<?, ?it/s]\n",
      "  7%|▋         | 33/500 [00:00<00:07, 61.41it/s]\n",
      "  8%|▊         | 38/500 [00:01<00:13, 35.06it/s]\n",
      "  8%|▊         | 42/500 [00:01<00:19, 23.93it/s]\n",
      "  9%|▉         | 45/500 [00:02<00:24, 18.30it/s]\n",
      "  9%|▉         | 47/500 [00:03<00:33, 13.51it/s]\n",
      " 10%|▉         | 49/500 [00:03<00:36, 12.43it/s]\n",
      " 10%|█         | 51/500 [00:04<00:39, 11.29it/s]\n",
      " 10%|█         | 52/500 [00:05<00:45,  9.83it/s]\n",
      " 11%|█         | 53/500 [00:05<00:47,  9.43it/s]\n",
      " 11%|█         | 54/500 [00:06<00:51,  8.65it/s]\n",
      " 11%|█         | 55/500 [00:07<00:58,  7.67it/s]\n",
      " 11%|█         | 56/500 [00:07<01:01,  7.18it/s]\n",
      " 11%|█▏        | 57/500 [00:08<01:04,  6.82it/s]\n",
      " 12%|█▏        | 58/500 [00:08<01:03,  6.94it/s]\n",
      "100%|██████████| 500/500 [00:08<00:00, 59.79it/s]"
     ]
    },
    {
     "name": "stdout",
     "output_type": "stream",
     "text": [
      "Wall time: 8.66 s\n"
     ]
    }
   ],
   "source": [
    "%%time\n",
    "poolSize = mp.cpu_count()\n",
    "pool = ThreadPool(poolSize)\n",
    "results = []\n",
    "\n",
    "for ii in tqdm(pool.imap_unordered(calcD, tempD), total=len(tempL)):\n",
    "    results.append(ii)\n",
    "pool.close()\n",
    "pool.join()"
   ]
  },
  {
   "cell_type": "code",
   "execution_count": 8,
   "metadata": {},
   "outputs": [],
   "source": []
  },
  {
   "cell_type": "code",
   "execution_count": 9,
   "metadata": {},
   "outputs": [],
   "source": [
    "temp1, temp2 = choceOne(0)"
   ]
  },
  {
   "cell_type": "code",
   "execution_count": 10,
   "metadata": {},
   "outputs": [
    {
     "data": {
      "text/plain": [
       "'5GS6'"
      ]
     },
     "execution_count": 10,
     "metadata": {},
     "output_type": "execute_result"
    }
   ],
   "source": [
    "temp1"
   ]
  },
  {
   "cell_type": "code",
   "execution_count": 11,
   "metadata": {},
   "outputs": [
    {
     "data": {
      "text/plain": [
       "['5IY3', '5K6K', '5JMT', '5TMH']"
      ]
     },
     "execution_count": 11,
     "metadata": {},
     "output_type": "execute_result"
    }
   ],
   "source": [
    "temp2"
   ]
  },
  {
   "cell_type": "code",
   "execution_count": null,
   "metadata": {},
   "outputs": [],
   "source": []
  }
 ],
 "metadata": {
  "kernelspec": {
   "display_name": "Python 3",
   "language": "python",
   "name": "python3"
  },
  "language_info": {
   "codemirror_mode": {
    "name": "ipython",
    "version": 3
   },
   "file_extension": ".py",
   "mimetype": "text/x-python",
   "name": "python",
   "nbconvert_exporter": "python",
   "pygments_lexer": "ipython3",
   "version": "3.6.5"
  }
 },
 "nbformat": 4,
 "nbformat_minor": 2
}
