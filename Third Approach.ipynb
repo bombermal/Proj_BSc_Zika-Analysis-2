{
 "cells": [
  {
   "cell_type": "code",
   "execution_count": 1,
   "metadata": {},
   "outputs": [],
   "source": [
    "## Imports"
   ]
  },
  {
   "cell_type": "code",
   "execution_count": 3,
   "metadata": {},
   "outputs": [],
   "source": [
    "import Node as nd\n",
    "import pandas as pd\n",
    "import multiprocessing as mp\n",
    "from multiprocessing.dummy import Pool as ThreadPool\n",
    "from Bio.SeqUtils import seq3, seq1 as seqX\n",
    "from Bio import SeqIO\n",
    "from tqdm import tqdm"
   ]
  },
  {
   "cell_type": "code",
   "execution_count": 4,
   "metadata": {},
   "outputs": [],
   "source": [
    "def fileRead(path, ext):\n",
    "    \"\"\"\n",
    "       Read files and return a list with all values\n",
    "    \"\"\"\n",
    "    path += ext\n",
    "    temp = []\n",
    "    with open(path) as fasta_file:\n",
    "        for seqRecord in SeqIO.parse(fasta_file, 'fasta'):\n",
    "            temp.append(seqRecord)\n",
    "    return temp"
   ]
  },
  {
   "cell_type": "code",
   "execution_count": 5,
   "metadata": {},
   "outputs": [],
   "source": [
    "%%time\n",
    "protein = \"read/Protein - C_NS5\"\n",
    "fastaProSequences = fileRead(protein, \".fa\")"
   ]
  },
  {
   "cell_type": "code",
   "execution_count": 6,
   "metadata": {},
   "outputs": [],
   "source": [
    "def makeDF(columns, sourceList):\n",
    "    \"\"\"\n",
    "        Make a dataFrame\n",
    "        \n",
    "        Parameters\n",
    "        ----------\n",
    "        columns : list\n",
    "            List of columns names\n",
    "        souceList: list\n",
    "            Data to populate DF\n",
    "        \n",
    "        Return\n",
    "        ------\n",
    "        pandas.DataFrame\n",
    "    \"\"\"\n",
    "    baseDf = pd.DataFrame(columns=columns)\n",
    "    \n",
    "    for itr in sourceList:\n",
    "        temp = itr.description.split(\"|\")\n",
    "        baseDf.loc[len(baseDf)] = [temp[0].strip(), temp[1], temp[2], temp[3], str(itr.seq)]\n",
    "    baseDf[\"Date\"] = pd.to_datetime(baseDf[\"Date\"])\n",
    "    return baseDf"
   ]
  },
  {
   "cell_type": "code",
   "execution_count": 7,
   "metadata": {},
   "outputs": [
    {
     "name": "stdout",
     "output_type": "stream",
     "text": [
      "Wall time: 2.34 s\n"
     ]
    }
   ],
   "source": [
    "%%time\n",
    "columns=[\"ID\", \"Host\", \"Region\", \"Date\", \"FullSeq\"]\n",
    "#Make DataFrames\n",
    "fastaProDF = makeDF(columns, fastaProSequences)"
   ]
  },
  {
   "cell_type": "code",
   "execution_count": 9,
   "metadata": {},
   "outputs": [],
   "source": [
    "def choseOne(val):\n",
    "    if val == -1:\n",
    "        return ['5GS6', '5IY3', '5K6K', '5JMT', \"5TMH\"], []\n",
    "    else:\n",
    "        dataList = ['5GS6', '5IY3', '5K6K', '5JMT', \"5TMH\"]\n",
    "        val = dataList.index(val)\n",
    "        return [dataList.pop(val)], dataList\n",
    "    \n",
    "def readPDBs(condition = False):\n",
    "    \"\"\"\n",
    "        Read my PDBs files\n",
    "    \"\"\"\n",
    "    src = \"_nodes.txt\"\n",
    "    if condition:\n",
    "        src = \"_edges.txt\"\n",
    "        \n",
    "    dataList = [\"5gs6\", \"5IY3\", \"5k6k\"]\n",
    "    nsFiles = {}\n",
    "    nsFiles[\"5JMT\"] = pd.read_csv(\"read/NS3/5JMT\"+src, sep=\"\\t\", low_memory=False)\n",
    "    nsFiles[\"5TMH\"] = pd.read_csv(\"read/NS5/5TMH\"+src, sep=\"\\t\", low_memory=False)\n",
    "    for ii in dataList:\n",
    "        nsFiles[ii.upper()] = pd.read_csv(\"read/NS1/\"+ii+src, sep=\"\\t\", low_memory=False)\n",
    "    \n",
    "    return nsFiles"
   ]
  },
  {
   "cell_type": "code",
   "execution_count": 11,
   "metadata": {},
   "outputs": [
    {
     "name": "stdout",
     "output_type": "stream",
     "text": [
      "Wall time: 243 ms\n"
     ]
    }
   ],
   "source": [
    "%%time\n",
    "#dataList = ['5GS6', '5IY3', '5K6K', '5JMT', \"5TMH\"]\n",
    "saveList, delList = choseOne(-1)\n",
    "nsFiles = readPDBs()"
   ]
  },
  {
   "cell_type": "code",
   "execution_count": null,
   "metadata": {},
   "outputs": [],
   "source": []
  }
 ],
 "metadata": {
  "kernelspec": {
   "display_name": "Python 3",
   "language": "python",
   "name": "python3"
  },
  "language_info": {
   "codemirror_mode": {
    "name": "ipython",
    "version": 3
   },
   "file_extension": ".py",
   "mimetype": "text/x-python",
   "name": "python",
   "nbconvert_exporter": "python",
   "pygments_lexer": "ipython3",
   "version": "3.6.4"
  }
 },
 "nbformat": 4,
 "nbformat_minor": 2
}
